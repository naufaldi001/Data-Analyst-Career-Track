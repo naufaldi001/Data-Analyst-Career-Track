{
  "nbformat": 4,
  "nbformat_minor": 0,
  "metadata": {
    "colab": {
      "name": "Machine Learning With Python.ipynb",
      "provenance": [],
      "collapsed_sections": [
        "MZ5QYn-cvMVd",
        "sxc93-j75DbO",
        "acFIE8407AlL",
        "_uHDyEBiBLFc",
        "kXuig1R5I99j",
        "apKOt9h2a_MB",
        "Cm7xpVjTg5E3",
        "sebJVCJk2h5U",
        "ADauQ-mB9MJp"
      ],
      "authorship_tag": "ABX9TyNrhdndQ3xIcSVVG3yYV5RP",
      "include_colab_link": true
    },
    "kernelspec": {
      "name": "python3",
      "display_name": "Python 3"
    },
    "language_info": {
      "name": "python"
    }
  },
  "cells": [
    {
      "cell_type": "markdown",
      "metadata": {
        "id": "view-in-github",
        "colab_type": "text"
      },
      "source": [
        "<a href=\"https://colab.research.google.com/github/naufaldi001/Data-Analyst-Career-Track/blob/main/Machine_Learning_With_Python.ipynb\" target=\"_parent\"><img src=\"https://colab.research.google.com/assets/colab-badge.svg\" alt=\"Open In Colab\"/></a>"
      ]
    },
    {
      "cell_type": "code",
      "metadata": {
        "id": "66k_h6B9vDdg"
      },
      "source": [
        "import pandas as pd\n",
        "import matplotlib.pyplot as plt\n",
        "import seaborn as sns\n",
        "import numpy as np"
      ],
      "execution_count": null,
      "outputs": []
    },
    {
      "cell_type": "markdown",
      "metadata": {
        "id": "MZ5QYn-cvMVd"
      },
      "source": [
        "# Eksplorasi Data: Memahami Data dengan Statistik"
      ]
    },
    {
      "cell_type": "code",
      "metadata": {
        "colab": {
          "base_uri": "https://localhost:8080/"
        },
        "id": "_vYFWWA0vGHY",
        "outputId": "4991a98e-edef-46b0-f212-2d34f7a98f93"
      },
      "source": [
        "dataset = pd.read_csv('https://storage.googleapis.com/dqlab-dataset/pythonTutorial/online_raw.csv')\n",
        "print('Shape dataset:', dataset.shape)\n",
        "print('\\nLima data teratas:\\n', dataset.head())\n",
        "print('\\nInformasi dataset:')\n",
        "print(dataset.info())\n",
        "print('\\nStatistik deskriptif:\\n', dataset.describe())"
      ],
      "execution_count": null,
      "outputs": [
        {
          "output_type": "stream",
          "name": "stdout",
          "text": [
            "Shape dataset: (12330, 18)\n",
            "\n",
            "Lima data teratas:\n",
            "    Administrative  Administrative_Duration  ...  Weekend  Revenue\n",
            "0             0.0                      0.0  ...    False    False\n",
            "1             0.0                      0.0  ...    False    False\n",
            "2             0.0                     -1.0  ...    False    False\n",
            "3             0.0                      0.0  ...    False    False\n",
            "4             0.0                      0.0  ...     True    False\n",
            "\n",
            "[5 rows x 18 columns]\n",
            "\n",
            "Informasi dataset:\n",
            "<class 'pandas.core.frame.DataFrame'>\n",
            "RangeIndex: 12330 entries, 0 to 12329\n",
            "Data columns (total 18 columns):\n",
            " #   Column                   Non-Null Count  Dtype  \n",
            "---  ------                   --------------  -----  \n",
            " 0   Administrative           12316 non-null  float64\n",
            " 1   Administrative_Duration  12316 non-null  float64\n",
            " 2   Informational            12316 non-null  float64\n",
            " 3   Informational_Duration   12316 non-null  float64\n",
            " 4   ProductRelated           12316 non-null  float64\n",
            " 5   ProductRelated_Duration  12316 non-null  float64\n",
            " 6   BounceRates              12316 non-null  float64\n",
            " 7   ExitRates                12316 non-null  float64\n",
            " 8   PageValues               12330 non-null  float64\n",
            " 9   SpecialDay               12330 non-null  float64\n",
            " 10  Month                    12330 non-null  object \n",
            " 11  OperatingSystems         12330 non-null  int64  \n",
            " 12  Browser                  12330 non-null  int64  \n",
            " 13  Region                   12330 non-null  int64  \n",
            " 14  TrafficType              12330 non-null  int64  \n",
            " 15  VisitorType              12330 non-null  object \n",
            " 16  Weekend                  12330 non-null  bool   \n",
            " 17  Revenue                  12330 non-null  bool   \n",
            "dtypes: bool(2), float64(10), int64(4), object(2)\n",
            "memory usage: 1.5+ MB\n",
            "None\n",
            "\n",
            "Statistik deskriptif:\n",
            "        Administrative  Administrative_Duration  ...        Region   TrafficType\n",
            "count    12316.000000             12316.000000  ...  12330.000000  12330.000000\n",
            "mean         2.317798                80.906176  ...      3.147364      4.069586\n",
            "std          3.322754               176.860432  ...      2.401591      4.025169\n",
            "min          0.000000                -1.000000  ...      1.000000      1.000000\n",
            "25%          0.000000                 0.000000  ...      1.000000      2.000000\n",
            "50%          1.000000                 8.000000  ...      3.000000      2.000000\n",
            "75%          4.000000                93.500000  ...      4.000000      4.000000\n",
            "max         27.000000              3398.750000  ...      9.000000     20.000000\n",
            "\n",
            "[8 rows x 14 columns]\n"
          ]
        }
      ]
    },
    {
      "cell_type": "markdown",
      "metadata": {
        "id": "sxc93-j75DbO"
      },
      "source": [
        "# Eksplorasi data untuk melihat korelasi dan distribusi dataset."
      ]
    },
    {
      "cell_type": "code",
      "metadata": {
        "colab": {
          "base_uri": "https://localhost:8080/"
        },
        "id": "T-oiAgan2br8",
        "outputId": "57acc9a0-9ecc-4da7-fd9b-65c1f2fb4f35"
      },
      "source": [
        "dataset_corr = dataset.corr()\n",
        "print('Korelasi dataset:\\n', dataset.corr())\n",
        "print('Distribusi Label (Revenue):\\n', dataset['Revenue'].value_counts())\n",
        "\n",
        "print('\\nKorelasi BounceRates-ExitRates:', dataset_corr.loc['BounceRates', 'ExitRates'])\n",
        "print('\\nKorelasi Revenue-PageValues:', dataset_corr.loc['Revenue', 'PageValues'])\n",
        "print('\\nKorelasi TrafficType-Weekend:', dataset_corr.loc['TrafficType','Weekend'])"
      ],
      "execution_count": null,
      "outputs": [
        {
          "output_type": "stream",
          "name": "stdout",
          "text": [
            "Korelasi dataset:\n",
            "                          Administrative  ...   Revenue\n",
            "Administrative                 1.000000  ...  0.138631\n",
            "Administrative_Duration        0.601466  ...  0.093395\n",
            "Informational                  0.376782  ...  0.095085\n",
            "Informational_Duration         0.255757  ...  0.070250\n",
            "ProductRelated                 0.430832  ...  0.158280\n",
            "ProductRelated_Duration        0.373647  ...  0.152130\n",
            "BounceRates                   -0.223474  ... -0.150621\n",
            "ExitRates                     -0.316192  ... -0.206886\n",
            "PageValues                     0.098771  ...  0.492569\n",
            "SpecialDay                    -0.095054  ... -0.082305\n",
            "OperatingSystems              -0.006459  ... -0.014668\n",
            "Browser                       -0.025243  ...  0.023984\n",
            "Region                        -0.005680  ... -0.011595\n",
            "TrafficType                   -0.033748  ... -0.005113\n",
            "Weekend                        0.026404  ...  0.029295\n",
            "Revenue                        0.138631  ...  1.000000\n",
            "\n",
            "[16 rows x 16 columns]\n",
            "Distribusi Label (Revenue):\n",
            " False    10422\n",
            "True      1908\n",
            "Name: Revenue, dtype: int64\n",
            "\n",
            "Korelasi BounceRates-ExitRates: 0.9134364214595944\n",
            "\n",
            "Korelasi Revenue-PageValues: 0.49256929525114623\n",
            "\n",
            "Korelasi TrafficType-Weekend: -0.0022212292430307825\n"
          ]
        }
      ]
    },
    {
      "cell_type": "markdown",
      "metadata": {
        "id": "acFIE8407AlL"
      },
      "source": [
        "# Memahami Data dengan Visual"
      ]
    },
    {
      "cell_type": "code",
      "metadata": {
        "colab": {
          "base_uri": "https://localhost:8080/",
          "height": 447
        },
        "id": "KnW_14X_5Qp8",
        "outputId": "3e9a2a7e-a5fa-48ab-9c5f-c657a15a5004"
      },
      "source": [
        "# checking the Distribution of customers on Revenue\n",
        "plt.rcParams['figure.figsize'] = (12,5)\n",
        "plt.subplot(1,2,1)\n",
        "sns.countplot(dataset['Revenue'], palette='pastel')\n",
        "plt.title('Buy or Not', fontsize=20)\n",
        "plt.xlabel('Revenue or not', fontsize=14)\n",
        "plt.ylabel('count', fontsize=14)\n",
        "# checking the Distribution of customers on Weekend\n",
        "plt.subplot(1,2,2)\n",
        "sns.countplot(dataset['Weekend'], palette='inferno')\n",
        "plt.title('Purchase on Weekends', fontsize=20)\n",
        "plt.xlabel('Weekend or not', fontsize=14)\n",
        "plt.ylabel('count', fontsize=14)\n",
        "plt.show()"
      ],
      "execution_count": null,
      "outputs": [
        {
          "output_type": "stream",
          "name": "stderr",
          "text": [
            "/usr/local/lib/python3.7/dist-packages/seaborn/_decorators.py:43: FutureWarning: Pass the following variable as a keyword arg: x. From version 0.12, the only valid positional argument will be `data`, and passing other arguments without an explicit keyword will result in an error or misinterpretation.\n",
            "  FutureWarning\n",
            "/usr/local/lib/python3.7/dist-packages/seaborn/_decorators.py:43: FutureWarning: Pass the following variable as a keyword arg: x. From version 0.12, the only valid positional argument will be `data`, and passing other arguments without an explicit keyword will result in an error or misinterpretation.\n",
            "  FutureWarning\n"
          ]
        },
        {
          "output_type": "display_data",
          "data": {
            "image/png": "[encoded data removed]",
            "text/plain": [
              "<Figure size 864x360 with 2 Axes>"
            ]
          },
          "metadata": {
            "needs_background": "light"
          }
        }
      ]
    },
    {
      "cell_type": "markdown",
      "metadata": {
        "id": "_uHDyEBiBLFc"
      },
      "source": [
        "# Data Pre-processing: Handling Missing Value "
      ]
    },
    {
      "cell_type": "code",
      "metadata": {
        "colab": {
          "base_uri": "https://localhost:8080/"
        },
        "id": "4w89Qd40BKVd",
        "outputId": "e5533d2f-df99-4292-8417-523c1d4aa7c7"
      },
      "source": [
        "#checking missing value for each feature  \n",
        "print('Checking missing value for each feature:')\n",
        "print(dataset.isnull().sum())\n",
        "#Counting total missing value\n",
        "print('\\nCounting total missing value:')\n",
        "print(dataset.isnull().sum().sum())"
      ],
      "execution_count": null,
      "outputs": [
        {
          "output_type": "stream",
          "name": "stdout",
          "text": [
            "Checking missing value for each feature:\n",
            "Administrative             14\n",
            "Administrative_Duration    14\n",
            "Informational              14\n",
            "Informational_Duration     14\n",
            "ProductRelated             14\n",
            "ProductRelated_Duration    14\n",
            "BounceRates                14\n",
            "ExitRates                  14\n",
            "PageValues                  0\n",
            "SpecialDay                  0\n",
            "Month                       0\n",
            "OperatingSystems            0\n",
            "Browser                     0\n",
            "Region                      0\n",
            "TrafficType                 0\n",
            "VisitorType                 0\n",
            "Weekend                     0\n",
            "Revenue                     0\n",
            "dtype: int64\n",
            "\n",
            "Counting total missing value:\n",
            "112\n"
          ]
        }
      ]
    },
    {
      "cell_type": "code",
      "metadata": {
        "colab": {
          "base_uri": "https://localhost:8080/"
        },
        "id": "Rz-c44W4CUDd",
        "outputId": "46daedad-52e1-4983-b884-6c80572efcad"
      },
      "source": [
        "#Drop rows with missing value   \n",
        "dataset_clean = dataset.dropna()  \n",
        "print('Ukuran dataset_clean:', dataset_clean.shape) "
      ],
      "execution_count": null,
      "outputs": [
        {
          "output_type": "stream",
          "name": "stdout",
          "text": [
            "Ukuran dataset_clean: (12316, 18)\n"
          ]
        }
      ]
    },
    {
      "cell_type": "markdown",
      "metadata": {
        "id": "6I6NAD1WDEaa"
      },
      "source": [
        "Mengisi record yang hilang ini dengan nilai rataan atau mean"
      ]
    },
    {
      "cell_type": "code",
      "metadata": {
        "colab": {
          "base_uri": "https://localhost:8080/"
        },
        "id": "e3i3lhkBDGqp",
        "outputId": "2887471f-7d47-4f31-991b-c5fffa3d141f"
      },
      "source": [
        "print(\"Before imputation:\")\n",
        "# Checking missing value for each feature  \n",
        "print(dataset.isnull().sum())\n",
        "# Counting total missing value  \n",
        "print(dataset.isnull().sum().sum())\n",
        "\n",
        "print(\"\\nAfter imputation:\")\n",
        "# Fill missing value with mean of feature value  \n",
        "dataset.fillna(dataset.mean(), inplace = True)\n",
        "# Checking missing value for each feature  \n",
        "print(dataset.isnull().sum())\n",
        "# Counting total missing value  \n",
        "print(dataset.isnull().sum().sum())"
      ],
      "execution_count": null,
      "outputs": [
        {
          "output_type": "stream",
          "name": "stdout",
          "text": [
            "Before imputation:\n",
            "Administrative             14\n",
            "Administrative_Duration    14\n",
            "Informational              14\n",
            "Informational_Duration     14\n",
            "ProductRelated             14\n",
            "ProductRelated_Duration    14\n",
            "BounceRates                14\n",
            "ExitRates                  14\n",
            "PageValues                  0\n",
            "SpecialDay                  0\n",
            "Month                       0\n",
            "OperatingSystems            0\n",
            "Browser                     0\n",
            "Region                      0\n",
            "TrafficType                 0\n",
            "VisitorType                 0\n",
            "Weekend                     0\n",
            "Revenue                     0\n",
            "dtype: int64\n",
            "112\n",
            "\n",
            "After imputation:\n",
            "Administrative             0\n",
            "Administrative_Duration    0\n",
            "Informational              0\n",
            "Informational_Duration     0\n",
            "ProductRelated             0\n",
            "ProductRelated_Duration    0\n",
            "BounceRates                0\n",
            "ExitRates                  0\n",
            "PageValues                 0\n",
            "SpecialDay                 0\n",
            "Month                      0\n",
            "OperatingSystems           0\n",
            "Browser                    0\n",
            "Region                     0\n",
            "TrafficType                0\n",
            "VisitorType                0\n",
            "Weekend                    0\n",
            "Revenue                    0\n",
            "dtype: int64\n",
            "0\n"
          ]
        }
      ]
    },
    {
      "cell_type": "markdown",
      "metadata": {
        "id": "48EfvVxvD55h"
      },
      "source": [
        "Metode imputing missing value dengan menggunakan nilai median"
      ]
    },
    {
      "cell_type": "code",
      "metadata": {
        "colab": {
          "base_uri": "https://localhost:8080/"
        },
        "id": "4wu9rea9D49Y",
        "outputId": "72d52694-fe18-402b-f188-7999248035e3"
      },
      "source": [
        "dataset1 = pd.read_csv('https://storage.googleapis.com/dqlab-dataset/pythonTutorial/online_raw.csv')\n",
        "\n",
        "print(\"Before imputation:\")\n",
        "# Checking missing value for each feature  \n",
        "print(dataset1.isnull().sum())\n",
        "# Counting total missing value  \n",
        "print(dataset1.isnull().sum().sum())\n",
        "\n",
        "print(\"\\nAfter imputation:\")\n",
        "# Fill missing value with median of feature value  \n",
        "dataset1.fillna(dataset1.median(), inplace = True)\n",
        "# Checking missing value for each feature  \n",
        "print(dataset1.isnull().sum())\n",
        "# Counting total missing value  \n",
        "print(dataset1.isnull().sum().sum())"
      ],
      "execution_count": null,
      "outputs": [
        {
          "output_type": "stream",
          "name": "stdout",
          "text": [
            "Before imputation:\n",
            "Administrative             14\n",
            "Administrative_Duration    14\n",
            "Informational              14\n",
            "Informational_Duration     14\n",
            "ProductRelated             14\n",
            "ProductRelated_Duration    14\n",
            "BounceRates                14\n",
            "ExitRates                  14\n",
            "PageValues                  0\n",
            "SpecialDay                  0\n",
            "Month                       0\n",
            "OperatingSystems            0\n",
            "Browser                     0\n",
            "Region                      0\n",
            "TrafficType                 0\n",
            "VisitorType                 0\n",
            "Weekend                     0\n",
            "Revenue                     0\n",
            "dtype: int64\n",
            "112\n",
            "\n",
            "After imputation:\n",
            "Administrative             0\n",
            "Administrative_Duration    0\n",
            "Informational              0\n",
            "Informational_Duration     0\n",
            "ProductRelated             0\n",
            "ProductRelated_Duration    0\n",
            "BounceRates                0\n",
            "ExitRates                  0\n",
            "PageValues                 0\n",
            "SpecialDay                 0\n",
            "Month                      0\n",
            "OperatingSystems           0\n",
            "Browser                    0\n",
            "Region                     0\n",
            "TrafficType                0\n",
            "VisitorType                0\n",
            "Weekend                    0\n",
            "Revenue                    0\n",
            "dtype: int64\n",
            "0\n"
          ]
        }
      ]
    },
    {
      "cell_type": "markdown",
      "metadata": {
        "id": "kXuig1R5I99j"
      },
      "source": [
        "# Data Preprocessing: Scaling"
      ]
    },
    {
      "cell_type": "code",
      "metadata": {
        "colab": {
          "base_uri": "https://localhost:8080/"
        },
        "id": "p_BGVjOuJEGi",
        "outputId": "2d57dbe7-f660-4d48-9ae2-000a0d7a64fb"
      },
      "source": [
        "from sklearn.preprocessing import MinMaxScaler  \n",
        "#Define MinMaxScaler as scaler  \n",
        "scaler = MinMaxScaler()  \n",
        "#list all the feature that need to be scaled  \n",
        "scaling_column = ['Administrative','Administrative_Duration','Informational','Informational_Duration','ProductRelated','ProductRelated_Duration','BounceRates','ExitRates','PageValues']\n",
        "#Apply fit_transfrom to scale selected feature  \n",
        "dataset[scaling_column] = scaler.fit_transform(dataset[scaling_column])\n",
        "#Cheking min and max value of the scaling_column\n",
        "print(dataset[scaling_column].describe().T[['min','max']])"
      ],
      "execution_count": null,
      "outputs": [
        {
          "output_type": "stream",
          "name": "stdout",
          "text": [
            "                         min  max\n",
            "Administrative           0.0  1.0\n",
            "Administrative_Duration  0.0  1.0\n",
            "Informational            0.0  1.0\n",
            "Informational_Duration   0.0  1.0\n",
            "ProductRelated           0.0  1.0\n",
            "ProductRelated_Duration  0.0  1.0\n",
            "BounceRates              0.0  1.0\n",
            "ExitRates                0.0  1.0\n",
            "PageValues               0.0  1.0\n"
          ]
        }
      ]
    },
    {
      "cell_type": "markdown",
      "metadata": {
        "id": "ndFu6LMqL-vO"
      },
      "source": [
        "**Konversi string ke numerik.**\n",
        "\n",
        "\n",
        "\n",
        "\n",
        "\n",
        "Karena setiap algoritma machine learning bekerja dengan menggunakan nilai numeris, maka kita perlu mengubah kolom dengan tipe pandas object atau str ini ke bertipe numeris\n",
        "\n"
      ]
    },
    {
      "cell_type": "code",
      "metadata": {
        "colab": {
          "base_uri": "https://localhost:8080/"
        },
        "id": "UI6OdwHSNpNt",
        "outputId": "1951866c-159a-41f9-ce3c-fa0a3eeea202"
      },
      "source": [
        "from sklearn.preprocessing import LabelEncoder\n",
        "# Convert feature/column 'Month'\n",
        "LE = LabelEncoder()\n",
        "dataset['Month'] = LE.fit_transform(dataset['Month'])\n",
        "print(LE.classes_)\n",
        "print(np.sort(dataset['Month'].unique()))\n",
        "print('')\n",
        "\n",
        "# Convert feature/column 'VisitorType'\n",
        "LE = LabelEncoder()\n",
        "dataset['VisitorType'] = LE.fit_transform(dataset['VisitorType'])\n",
        "print(LE.classes_)\n",
        "print(np.sort(dataset['VisitorType'].unique()))"
      ],
      "execution_count": null,
      "outputs": [
        {
          "output_type": "stream",
          "name": "stdout",
          "text": [
            "['Aug' 'Dec' 'Feb' 'Jul' 'June' 'Mar' 'May' 'Nov' 'Oct' 'Sep']\n",
            "[0 1 2 3 4 5 6 7 8 9]\n",
            "\n",
            "['New_Visitor' 'Other' 'Returning_Visitor']\n",
            "[0 1 2]\n"
          ]
        }
      ]
    },
    {
      "cell_type": "markdown",
      "metadata": {
        "id": "akFI_kQOaTQj"
      },
      "source": [
        "**Features & Label**\n",
        "\n",
        "Dalam dataset user online purchase, label target sudah diketahui, yaitu kolom Revenue yang bernilai 1 untuk user yang membeli dan 0 untuk yang tidak membeli, sehingga pemodelan yang dilakukan ini adalah klasifikasi. Nah, untuk melatih dataset menggunakan Scikit-Learn library, dataset perlu dipisahkan ke dalam Features dan Label/Target. Variabel Feature akan terdiri dari variabel yang dideklarasikan sebagai X dan [Revenue] adalah variabel Target yang dideklarasikan sebagai y. Gunakan fungsi drop() untuk menghapus kolom [Revenue] dari dataset."
      ]
    },
    {
      "cell_type": "code",
      "metadata": {
        "colab": {
          "base_uri": "https://localhost:8080/"
        },
        "id": "jZMiX144ODZ1",
        "outputId": "7e09ae5e-2900-4fdc-bd3c-15e780c98a8c"
      },
      "source": [
        "# removing the target column Revenue from dataset and assigning to X\n",
        "X = dataset.drop(['Revenue'], axis = 1)\n",
        "# assigning the target column Revenue to y\n",
        "y = dataset['Revenue']\n",
        "# checking the shapes\n",
        "print(\"Shape of X:\", X.shape) \n",
        "print(\"Shape of Y:\", y.shape)"
      ],
      "execution_count": null,
      "outputs": [
        {
          "output_type": "stream",
          "name": "stdout",
          "text": [
            "Shape of X: (12330, 17)\n",
            "Shape of Y: (12330,)\n"
          ]
        }
      ]
    },
    {
      "cell_type": "markdown",
      "metadata": {
        "id": "apKOt9h2a_MB"
      },
      "source": [
        "# Training dan Test Dataset"
      ]
    },
    {
      "cell_type": "markdown",
      "metadata": {
        "id": "Moz5hBJYbBw5"
      },
      "source": [
        "sebelum kita melatih model dengan suatu algorithm machine , seperti yang saya jelaskan sebelumnya, dataset perlu kita bagi ke dalam training dataset dan test dataset dengan perbandingan 80:20. 80% digunakan untuk training dan 20% untuk proses testing.\n",
        "\n",
        "Fungsi Training adalah melatih model untuk mengenali pola dalam data, sedangkan testing berfungsi untuk memastikan bahwa model yang telah dilatih tersebut mampu dengan baik memprediksi label dari new observation dan belum dipelajari oleh model sebelumnya.\n",
        "\n",
        "“Perbandingan lain yang biasanya digunakan adalah 75:25. Hal penting yang perlu diketahui adalah scikit-learn tidak dapat memproses dataframe dan hanya mengakomodasi format data tipe Array. Tetapi kalian tidak perlu khawatir, fungsi train_test_split( ) dari Scikit-Learn, otomatis mengubah dataset dari dataframe ke dalam format array."
      ]
    },
    {
      "cell_type": "code",
      "metadata": {
        "colab": {
          "base_uri": "https://localhost:8080/"
        },
        "id": "T1J88fOBdAwp",
        "outputId": "d9c94fd1-a2a3-465f-ff0f-563f583f90d2"
      },
      "source": [
        "from sklearn.model_selection import train_test_split\n",
        "# splitting the X, and y\n",
        "X_train, X_test, y_train , y_test = train_test_split(X, y, test_size = 0.2, random_state = 0)\n",
        "# checking the shapes\n",
        "print(\"Shape of X_train :\", X_train.shape)\n",
        "print(\"Shape of y_train :\", y_train.shape)\n",
        "print(\"Shape of X_test :\", X_test.shape)\n",
        "print(\"Shape of y_test :\", y_test.shape)"
      ],
      "execution_count": null,
      "outputs": [
        {
          "output_type": "stream",
          "name": "stdout",
          "text": [
            "Shape of X_train : (9864, 17)\n",
            "Shape of y_train : (9864,)\n",
            "Shape of X_test : (2466, 17)\n",
            "Shape of y_test : (2466,)\n"
          ]
        }
      ]
    },
    {
      "cell_type": "markdown",
      "metadata": {
        "id": "mZyyMXGXdYRt"
      },
      "source": [
        "**Training Model: Fit**"
      ]
    },
    {
      "cell_type": "code",
      "metadata": {
        "id": "QIK6_xsueGMT"
      },
      "source": [
        "from sklearn.tree import DecisionTreeClassifier\n",
        "# Call the classifier\n",
        "model = DecisionTreeClassifier()\n",
        "# Fit the classifier to the training data\n",
        "model = model.fit(X_train,y_train)"
      ],
      "execution_count": null,
      "outputs": []
    },
    {
      "cell_type": "markdown",
      "metadata": {
        "id": "73U4pnXkeMBa"
      },
      "source": [
        "**Training Model: Predict**"
      ]
    },
    {
      "cell_type": "code",
      "metadata": {
        "colab": {
          "base_uri": "https://localhost:8080/"
        },
        "id": "b9TRmOcFeM5d",
        "outputId": "f0ff756d-2c38-4f02-89a1-ffd789cd1cc8"
      },
      "source": [
        "# Apply the classifier/model to the test data\n",
        "y_pred = model.predict(X_test)\n",
        "print(y_pred.shape)"
      ],
      "execution_count": null,
      "outputs": [
        {
          "output_type": "stream",
          "name": "stdout",
          "text": [
            "(2466,)\n"
          ]
        }
      ]
    },
    {
      "cell_type": "markdown",
      "metadata": {
        "id": "Cm7xpVjTg5E3"
      },
      "source": [
        "# Evaluasi Model Performance"
      ]
    },
    {
      "cell_type": "markdown",
      "metadata": {
        "id": "nYay1hlIhA54"
      },
      "source": [
        "Untuk evaluasi model performance, setiap algorithm mempunyai metrik yang berbeda-beda, Metrik paling sederhana untuk mengecek performansi model adalah accuracy.\n",
        "Kita bisa munculkan dengan fungsi .score( ). Tetapi, di banyak real problem, accuracy saja tidaklah cukup. Metode lain yang digunakan adalah dengan Confusion Matrix. Confusion Matrix merepresentasikan perbandingan prediksi dan real LABEL dari test dataset yang dihasilkan oleh algoritma ML"
      ]
    },
    {
      "cell_type": "code",
      "metadata": {
        "colab": {
          "base_uri": "https://localhost:8080/"
        },
        "id": "tTir8Ar0hZu8",
        "outputId": "a746a958-e347-4b11-a5b3-960d66f1959a"
      },
      "source": [
        "from sklearn.metrics import confusion_matrix, classification_report\n",
        "\n",
        "# evaluating the model\n",
        "print('Training Accuracy :', model.score(X_train, y_train))\n",
        "print('Testing Accuracy :', model.score(X_test, y_test))\n",
        "\n",
        "# confusion matrix\n",
        "print('\\nConfusion matrix:')\n",
        "cm = confusion_matrix(y_test, y_pred)\n",
        "print(cm)\n",
        "\n",
        "# classification report\n",
        "print('\\nClassification report:')\n",
        "cr = classification_report(y_test, y_pred)\n",
        "print(cr)"
      ],
      "execution_count": null,
      "outputs": [
        {
          "output_type": "stream",
          "name": "stdout",
          "text": [
            "Training Accuracy : 1.0\n",
            "Testing Accuracy : 0.8605028386050284\n",
            "\n",
            "Confusion matrix:\n",
            "[[1882  162]\n",
            " [ 182  240]]\n",
            "\n",
            "Classification report:\n",
            "              precision    recall  f1-score   support\n",
            "\n",
            "       False       0.91      0.92      0.92      2044\n",
            "        True       0.60      0.57      0.58       422\n",
            "\n",
            "    accuracy                           0.86      2466\n",
            "   macro avg       0.75      0.74      0.75      2466\n",
            "weighted avg       0.86      0.86      0.86      2466\n",
            "\n"
          ]
        }
      ]
    },
    {
      "cell_type": "markdown",
      "metadata": {
        "id": "8zltj1iehhSd"
      },
      "source": [
        "Jika dataset memiliki jumlah data False Negatif dan False Positif yang seimbang (Symmetric), maka bisa gunakan Accuracy, tetapi jika tidak seimbang, maka sebaiknya menggunakan F1-Score.\n",
        "\n",
        "Dalam suatu problem, jika lebih memilih False Positif lebih baik terjadi daripada False Negatif, misalnya: Dalam kasus Fraud/Scam, kecenderungan model mendeteksi transaksi sebagai fraud walaupun kenyataannya bukan, dianggap lebih baik, daripada transaksi tersebut tidak terdeteksi sebagai fraud tetapi ternyata fraud. Untuk problem ini sebaiknya menggunakan Recall.\n",
        "\n",
        "Sebaliknya, jika lebih menginginkan terjadinya True Negatif dan sangat tidak menginginkan terjadinya False Positif, sebaiknya menggunakan Precision.\n",
        "\n",
        "Contohnya adalah pada kasus klasifikasi email SPAM atau tidak. Banyak orang lebih memilih jika email yang sebenarnya SPAM namun diprediksi tidak SPAM (sehingga tetap ada pada kotak masuk email kita), daripada email yang sebenarnya bukan SPAM tapi diprediksi SPAM (sehingga tidak ada pada kotak masuk email)."
      ]
    },
    {
      "cell_type": "markdown",
      "metadata": {
        "id": "JY5iKT8I2fCu"
      },
      "source": [
        "# Supervised Learning - Algorithm"
      ]
    },
    {
      "cell_type": "markdown",
      "metadata": {
        "id": "sebJVCJk2h5U"
      },
      "source": [
        "## Classification - Logistic Regression\n",
        "dengan memanfaatkan Scikit-Learn sangatlah mudah. Dengan menggunakan dataset yang sama yaitu online_raw, dan setelah dataset dibagi ke dalam Training Set dan Test Set, cukup menggunakan modul linear_model dari Scikit-learn, dan memanggil fungsi LogisticRegression() yang diberi nama logreg.\n",
        "\n",
        "Kemudian, model yang sudah ditraining ini  bisa digunakan untuk memprediksi output/label dari test dataset sekaligus mengevaluasi model performance dengan fungsi score(), confusion_matrix() dan classification_report()."
      ]
    },
    {
      "cell_type": "code",
      "metadata": {
        "colab": {
          "base_uri": "https://localhost:8080/"
        },
        "id": "CCVSe_Ik2f4W",
        "outputId": "fdebf0fd-d54b-47fa-ea55-df7f49751963"
      },
      "source": [
        "from sklearn.linear_model import LogisticRegression\n",
        "from sklearn.metrics import confusion_matrix, classification_report\n",
        "\n",
        "# Call the classifier\n",
        "logreg = LogisticRegression()\n",
        "# Fit the classifier to the training data  \n",
        "logreg = logreg.fit(X_train,y_train)\n",
        "#Training Model: Predict \n",
        "y_pred = logreg.predict(X_test)\n",
        "\n",
        "#Evaluate Model Performance\n",
        "print('Training Accuracy :', logreg.score(X_train, y_train))  \n",
        "print('Testing Accuracy :', logreg.score(X_test, y_test))  \n",
        "\n",
        "# confusion matrix\n",
        "print('\\nConfusion matrix')  \n",
        "cm = confusion_matrix(y_test, y_pred)  \n",
        "print(cm)\n",
        "\n",
        "# classification report  \n",
        "print('\\nClassification report')  \n",
        "cr = classification_report(y_test, y_pred)  \n",
        "print(cr)"
      ],
      "execution_count": null,
      "outputs": [
        {
          "output_type": "stream",
          "name": "stdout",
          "text": [
            "Training Accuracy : 0.8806772100567721\n",
            "Testing Accuracy : 0.8584752635847527\n",
            "\n",
            "Confusion matrix\n",
            "[[2011   33]\n",
            " [ 316  106]]\n",
            "\n",
            "Classification report\n",
            "              precision    recall  f1-score   support\n",
            "\n",
            "       False       0.86      0.98      0.92      2044\n",
            "        True       0.76      0.25      0.38       422\n",
            "\n",
            "    accuracy                           0.86      2466\n",
            "   macro avg       0.81      0.62      0.65      2466\n",
            "weighted avg       0.85      0.86      0.83      2466\n",
            "\n"
          ]
        },
        {
          "output_type": "stream",
          "name": "stderr",
          "text": [
            "/usr/local/lib/python3.7/dist-packages/sklearn/linear_model/_logistic.py:940: ConvergenceWarning: lbfgs failed to converge (status=1):\n",
            "STOP: TOTAL NO. of ITERATIONS REACHED LIMIT.\n",
            "\n",
            "Increase the number of iterations (max_iter) or scale the data as shown in:\n",
            "    https://scikit-learn.org/stable/modules/preprocessing.html\n",
            "Please also refer to the documentation for alternative solver options:\n",
            "    https://scikit-learn.org/stable/modules/linear_model.html#logistic-regression\n",
            "  extra_warning_msg=_LOGISTIC_SOLVER_CONVERGENCE_MSG)\n"
          ]
        }
      ]
    },
    {
      "cell_type": "markdown",
      "metadata": {
        "id": "ADauQ-mB9MJp"
      },
      "source": [
        "## Classification - Decision Tree\n",
        "Decision Tree merupakan salah satu metode klasifikasi yang populer dan banyak diimplementasikan serta mudah diinterpretasi. Decision tree adalah model prediksi dengan struktur pohon atau struktur berhierarki. Decision Tree dapat digunakan untuk classification problem dan regression problem.\n",
        "\n",
        "Decision tree terdiri dari :\n",
        "**=** Decision Node yang merupakan feature/input variabel;\n",
        "**=** Branch yang ditunjukkan oleh garis hitam berpanah, yang adalah rule/aturan keputusan, dan\n",
        "**= ** Leaf yang merupakan output/hasil.\n",
        "\n",
        "Decision Node paling atas dalam decision tree dikenal sebagai akar keputusan, atau feature utama yang menjadi asal mula percabangan. Jadi, decision tree membagi data ke dalam kelompok atau kelas berdasarkan feature/variable input, yang dimulai dari node paling atas (akar), dan terus bercabang ke bawah sampai dicapai cabang akhir atau leaf."
      ]
    },
    {
      "cell_type": "code",
      "metadata": {
        "colab": {
          "base_uri": "https://localhost:8080/"
        },
        "id": "EhB71ILi85yt",
        "outputId": "1caec0e8-bcdb-408e-8c3c-3308b2bea8ca"
      },
      "source": [
        "from sklearn.model_selection import train_test_split\n",
        "from sklearn.tree import DecisionTreeClassifier\n",
        "\n",
        "# splitting the data\n",
        "X_train, X_test, y_train, y_test = train_test_split(X, y, test_size = 0.3, random_state = 0)\n",
        "\n",
        "# Call the classifier\n",
        "decision_tree = DecisionTreeClassifier()\n",
        "# Fit the classifier to the training data\n",
        "decision_tree = decision_tree.fit(X_train, y_train)\n",
        "\n",
        "# evaluating the decision_tree performance\n",
        "print('Training Accuracy :', decision_tree.score(X_train, y_train))\n",
        "print('Testing Accuracy :', decision_tree.score(X_test, y_test))"
      ],
      "execution_count": null,
      "outputs": [
        {
          "output_type": "stream",
          "name": "stdout",
          "text": [
            "Training Accuracy : 1.0\n",
            "Testing Accuracy : 0.8580697485806975\n"
          ]
        }
      ]
    },
    {
      "cell_type": "markdown",
      "metadata": {
        "id": "m6QKDGrR-oK2"
      },
      "source": [
        "## Regression: Linear Regression \n",
        "Regression merupakan metode statistik dan machine learning yang paling banyak digunakan. Seperti yang dijelaskan sebelumnya, regresi digunakan untuk memprediksi output label yang berbentuk numerik atau continuous value. Dalam proses training, model regresi akan menggunakan variabel input (features) dan variabel output (label) untuk mempelajari bagaimana hubungan/pola dari variabel input dan output.\n",
        "\n",
        "Model regresi terdiri atas 2 tipe yaitu :\n",
        "\n",
        "Simple regression model → model regresi paling sederhana, hanya terdiri dari satu feature (univariate) dan 1 target.\n",
        "Multiple regression model → sesuai namanya, terdiri dari lebih dari satu feature (multivariate).\n",
        "Adapun model regresi yang paling umum digunakan adalah Linear Regression."
      ]
    },
    {
      "cell_type": "code",
      "metadata": {
        "id": "-cKYMm33rrkG"
      },
      "source": [
        "#Untuk pemodelan ini kita akan menggunakan data ‘Boston Housing Dataset’. \n",
        "#load dataset\n",
        "housing = pd.read_csv('https://storage.googleapis.com/dqlab-dataset/pythonTutorial/housing_boston.csv')"
      ],
      "execution_count": null,
      "outputs": []
    },
    {
      "cell_type": "code",
      "metadata": {
        "colab": {
          "base_uri": "https://localhost:8080/"
        },
        "id": "6ykbJxiYrx-_",
        "outputId": "48b56a6b-0c91-4daf-e407-0934e11d5372"
      },
      "source": [
        "#Data rescaling\n",
        "from sklearn import preprocessing\n",
        "data_scaler = preprocessing.MinMaxScaler(feature_range=(0,1))\n",
        "housing[['RM','LSTAT','PTRATIO','MEDV']] = data_scaler.fit_transform(housing[['RM','LSTAT','PTRATIO','MEDV']])\n",
        "# getting dependent and independent variables\n",
        "X = housing.drop(['MEDV'], axis = 1)\n",
        "y = housing['MEDV']\n",
        "# checking the shapes\n",
        "print('Shape of X:', X.shape)\n",
        "print('Shape of y:', y.shape)\n"
      ],
      "execution_count": null,
      "outputs": [
        {
          "output_type": "stream",
          "name": "stdout",
          "text": [
            "Shape of X: (489, 3)\n",
            "Shape of y: (489,)\n"
          ]
        }
      ]
    },
    {
      "cell_type": "code",
      "metadata": {
        "colab": {
          "base_uri": "https://localhost:8080/"
        },
        "id": "yMcmIrb6r2Ko",
        "outputId": "2064ab1e-1657-4d32-f92c-0dbf17d9fc42"
      },
      "source": [
        "# splitting the data\n",
        "from sklearn.model_selection import train_test_split\n",
        "X_train, X_test, y_train, y_test = train_test_split(X, y, test_size = 0.3, random_state = 0)\n",
        "# checking the shapes  \n",
        "print('Shape of X_train :', X_train.shape)\n",
        "print('Shape of y_train :', y_train.shape)\n",
        "print('Shape of X_test :', X_test.shape)\n",
        "print('Shape of y_test :', y_test.shape)"
      ],
      "execution_count": null,
      "outputs": [
        {
          "output_type": "stream",
          "name": "stdout",
          "text": [
            "Shape of X_train : (342, 3)\n",
            "Shape of y_train : (342,)\n",
            "Shape of X_test : (147, 3)\n",
            "Shape of y_test : (147,)\n"
          ]
        }
      ]
    },
    {
      "cell_type": "code",
      "metadata": {
        "id": "8taGCAvZr4WB"
      },
      "source": [
        "#import regressor from Scikit-Learn\n",
        "from sklearn.linear_model import LinearRegression\n",
        "# Call the regressor\n",
        "reg = LinearRegression()\n",
        "# Fit the regressor to the training data  \n",
        "reg = reg.fit(X_train, y_train)\n",
        "# Apply the regressor/model to the test data  \n",
        "y_pred = reg.predict(X_test)"
      ],
      "execution_count": null,
      "outputs": []
    },
    {
      "cell_type": "markdown",
      "metadata": {
        "id": "L-diTDIlsZWi"
      },
      "source": [
        "### Regression Performance Evaluation\n"
      ]
    },
    {
      "cell_type": "markdown",
      "metadata": {
        "id": "Z51GpGvfsucX"
      },
      "source": [
        "Metode Evaluasi Untuk model regression, kita menghitung selisih antara nilai aktual (y_test) dan nilai prediksi (y_pred) yang disebut error, adapun beberapa metric yang umum digunan:\n",
        "\n",
        "*   Mean Squared Error (MSE) adalah rata-rata dari squared error\n",
        "*   Root Mean Squared Error (RMSE) adalah akar kuadrat dari MSE\n",
        "*   Mean Absolute Error (MAE) adalah rata-rata dari nilai absolut error\n",
        "\n",
        "Semakin kecil nilai MSE, RMSE, dan MAE, semakin baik pula performansi model regresi. Untuk menghitung nilai MSE, RMSE dan MAE dapat dilakukan dengan menggunakan fungsi mean_squared_error () ,  mean_absolute_error () dari scikit-learn.metrics dan untuk RMSE sendiri tidak terdapat fungsi khusus di scikit-learn tapi dapat dengan mudah kita hitung dengan terlebih dahulu menghitung MSE kemudian menggunakan numpy module yaitu, sqrt() untuk memperoleh nilai akar kuadrat dari MSE.\n",
        "\n",
        "\n",
        "\n",
        "\n",
        "\n"
      ]
    },
    {
      "cell_type": "code",
      "metadata": {
        "colab": {
          "base_uri": "https://localhost:8080/",
          "height": 401
        },
        "id": "WWfpR64qvXld",
        "outputId": "9cc2b213-146a-4a98-ba11-cfed34a0b73a"
      },
      "source": [
        "from sklearn.metrics import mean_squared_error, mean_absolute_error  \n",
        "#Calculating MSE, lower the value better it is. 0 means perfect prediction\n",
        "mse = mean_squared_error(y_test, y_pred)\n",
        "print('Mean squared error of testing set:', mse)\n",
        "#Calculating MAE\n",
        "mae = mean_absolute_error(y_test, y_pred)\n",
        "print('Mean absolute error of testing set:', mae)\n",
        "#Calculating RMSE\n",
        "rmse = np.sqrt(mse)\n",
        "print('Root Mean Squared Error of testing set:', rmse)\n",
        "\n",
        "#Plotting y_test dan y_pred\n",
        "plt.scatter(y_test, y_pred, c = 'green')\n",
        "plt.xlabel('Price Actual')\n",
        "plt.ylabel('Predicted value')\n",
        "plt.title('True value vs predicted value : Linear Regression')\n",
        "plt.show()"
      ],
      "execution_count": null,
      "outputs": [
        {
          "output_type": "stream",
          "name": "stdout",
          "text": [
            "Mean squared error of testing set: 0.010913024655841009\n",
            "Mean absolute error of testing set: 0.07789896103120689\n",
            "Root Mean Squared Error of testing set: 0.1044654232549747\n"
          ]
        },
        {
          "output_type": "display_data",
          "data": {
            "image/png": "[encoded data removed]",
            "text/plain": [
              "<Figure size 864x360 with 1 Axes>"
            ]
          },
          "metadata": {
            "needs_background": "light"
          }
        }
      ]
    },
    {
      "cell_type": "markdown",
      "metadata": {
        "id": "JcNTokVnv-6s"
      },
      "source": [
        "# Unsupervised Learning"
      ]
    },
    {
      "cell_type": "markdown",
      "metadata": {
        "id": "qjhoK-81wBTR"
      },
      "source": [
        "adalah teknik machine learning dimana tidak terdapat label atau output yang digunakan untuk melatih model. Jadi, model dengan sendirinya akan bekerja untuk menemukan pola atau informasi dari dataset yang ada. Metode unsupervised learning yang dikenal dengan clustering. Sesuai dengan namanya, Clustering memproses data dan mengelompokkannya atau mengcluster objek/sample berdasarkan kesamaan antar objek/sampel dalam satu kluster, dan objek/sample ini cukup berbeda dengan objek/sample di kluster yang lain."
      ]
    },
    {
      "cell_type": "markdown",
      "metadata": {
        "id": "kHWoQyyrw18Y"
      },
      "source": [
        "## K-Means Clustering\n",
        "\n",
        "---\n",
        "K-Means merupakan tipe clustering dengan centroid based (titik pusat). Artinya kesamaan dari objek/sampel dihitung dari seberapa dekat objek itu dengan centroid atau titik pusat.\n",
        "kita akan menggunakan dataset ‘Mall Customer Segmentation', Dataset ini merupakan data customer suatu mall dan berisi basic informasi customer berupa : CustomerID, age, gender, annual income, dan spending score.  Adapun tujuan dari clustering adalah untuk memahami customer - customer mana saja yang sering melakukan transaksi sehingga informasi ini dapat diberikan kepada marketing team untuk membuat strategi promosi yang sesuai dengan karakteristik customer."
      ]
    },
    {
      "cell_type": "code",
      "metadata": {
        "id": "M-6LdfoCyh3L"
      },
      "source": [
        "from sklearn.cluster import KMeans\n",
        "\n",
        "#load dataset\n",
        "dataset = pd.read_csv('https://storage.googleapis.com/dqlab-dataset/pythonTutorial/mall_customers.csv')\n",
        "\n",
        "#selecting features  \n",
        "X = dataset[['annual_income','spending_score']]  \n",
        "\n",
        "#Define KMeans as cluster_model  \n",
        "cluster_model = KMeans(n_clusters = 5, random_state = 24)  \n",
        "labels = cluster_model.fit_predict(X)"
      ],
      "execution_count": null,
      "outputs": []
    },
    {
      "cell_type": "markdown",
      "metadata": {
        "id": "-JfF3AUY6C_J"
      },
      "source": [
        "**Inspect & Visualizing the Cluster**"
      ]
    },
    {
      "cell_type": "code",
      "metadata": {
        "colab": {
          "base_uri": "https://localhost:8080/",
          "height": 355
        },
        "id": "M5hbJ5bX6DWn",
        "outputId": "2c203c2b-ea5a-426b-d728-9d449ce43ceb"
      },
      "source": [
        "#convert dataframe to array\n",
        "X = X.values\n",
        "#Separate X to xs and ys --> use for chart axis\n",
        "xs = X[:,0]\n",
        "ys = X[:,1]\n",
        "# Make a scatter plot of xs and ys, using labels to define the colors\n",
        "plt.scatter(xs,ys,c=labels, alpha=0.5)\n",
        "\n",
        "# Assign the cluster centers: centroids\n",
        "centroids = cluster_model.cluster_centers_\n",
        "# Assign the columns of centroids: centroids_x, centroids_y\n",
        "centroids_x = centroids[:,0]\n",
        "centroids_y = centroids[:,1]\n",
        "# Make a scatter plot of centroids_x and centroids_y\n",
        "plt.scatter(centroids_x,centroids_y,marker='D', s=50)\n",
        "plt.title('K Means Clustering', fontsize = 20)\n",
        "plt.xlabel('Annual Income')\n",
        "plt.ylabel('Spending Score')\n",
        "plt.show()"
      ],
      "execution_count": null,
      "outputs": [
        {
          "output_type": "display_data",
          "data": {
            "image/png": "[encoded data removed]",
            "text/plain": [
              "<Figure size 864x360 with 1 Axes>"
            ]
          },
          "metadata": {
            "needs_background": "light"
          }
        }
      ]
    },
    {
      "cell_type": "markdown",
      "metadata": {
        "id": "GioKdgZpc46f"
      },
      "source": [
        "**Measuring Cluster Criteria**"
      ]
    },
    {
      "cell_type": "code",
      "metadata": {
        "colab": {
          "base_uri": "https://localhost:8080/",
          "height": 355
        },
        "id": "BSWD7EETeH4v",
        "outputId": "f8d59cb4-b9da-4504-d892-a0d27a6af484"
      },
      "source": [
        "from sklearn.cluster import KMeans\n",
        "#Elbow Method - Inertia plot\n",
        "inertia = []\n",
        "#looping the inertia calculation for each k\n",
        "for k in range(1, 10):\n",
        "    #Assign KMeans as cluster_model\n",
        "    cluster_model = KMeans(n_clusters = k, random_state = 24)\n",
        "    #Fit cluster_model to X\n",
        "    cluster_model.fit(X)\n",
        "    #Get the inertia value\n",
        "    inertia_value = cluster_model.inertia_\n",
        "    #Append the inertia_value to inertia list\n",
        "    inertia.append(inertia_value) \n",
        "    \n",
        "##Inertia plot\n",
        "plt.plot(range(1, 10), inertia)\n",
        "plt.title('The Elbow Method - Inertia plot', fontsize = 20)\n",
        "plt.xlabel('No. of Clusters')\n",
        "plt.ylabel('Inertia')\n",
        "plt.show()"
      ],
      "execution_count": null,
      "outputs": [
        {
          "output_type": "display_data",
          "data": {
            "image/png": "[encoded data removed]",
            "text/plain": [
              "<Figure size 864x360 with 1 Axes>"
            ]
          },
          "metadata": {
            "needs_background": "light"
          }
        }
      ]
    }
  ]
}